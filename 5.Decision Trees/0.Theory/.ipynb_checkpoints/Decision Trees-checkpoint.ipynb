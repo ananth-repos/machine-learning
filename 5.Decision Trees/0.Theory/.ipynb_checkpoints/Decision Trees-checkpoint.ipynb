{
 "cells": [
  {
   "cell_type": "markdown",
   "metadata": {},
   "source": [
    "## Topics covered in this notebook:\n",
    "1. What are Decision Trees?\n",
    "2. What is Information Entropy?\n",
    "3. What is Information Gain?\n",
    "4. How do we choose best split?\n",
    "5. What makes a good tree?\n",
    "6. Decision Trees vs KNN.\n",
    "7. Applications.\n",
    "8. References."
   ]
  },
  {
   "cell_type": "markdown",
   "metadata": {},
   "source": [
    "# 1. Decision Trees:\n",
    "\n",
    "Simple in concept, complicated to implement.\n",
    "\n",
    "1. Pick an attribute, do a simple test.\n",
    "2. Conditioned on choice, pick another attribute, do another test.\n",
    "3. In the leaves, assign a class with majority vote.\n",
    "4. Do the other branches as well.\n",
    "5. Gives axis aligned decision boundaries.\n",
    "\n",
    "Basically: A bunch of nested if-statements.\n",
    "\n",
    "Example - Spam Classifier:\n",
    "\n",
    "$If (doc\\,contains\\,'money'\\,):$<br>\n",
    "    $\\quad If\\,(doc\\,contains\\,'free'\\,):$<br>\n",
    "        $\\qquad Return\\,\\,True$ <br>\n",
    "    $\\quad else:$<br>\n",
    "        $\\qquad Return\\,\\,False$ <br>\n",
    "$else:$<br>\n",
    "    $\\quad Return\\,\\,False$ <br>\n",
    "    \n",
    "1. One key feature is that we look at one attribure at a time.\n",
    "    1. Each condition checks only one column of X.\n",
    "    2. Attributes = 'Input Features'.\n",
    "    3. Ex:\n",
    "        1. If (height < 5): Go to left node Else: Go to right node.\n",
    "\n",
    "2. What does it tell us about the geometry of the problem?\n",
    "    1. Splits are always orthogonal to the axes.\n",
    "    2. Whereas discriminating line can be at an angle - Ex. Linear Classifier.\n",
    "    3. Can still get a highly non-linear boundary - if we split multiple times, splits at each level.\n",
    "    \n",
    "3. Recursiveness- Because its a Tree!.\n",
    "    1. Each node is a TreeNode object.\n",
    "    2. But its children are also TreeNode objects.\n",
    "    3. Leaf nodes have no children.\n",
    "    4. Leaf nodes are where we make predictions.\n",
    "    5. It then bubbles back up to the root node.\n",
    "    \n",
    "What makes this ML?\n",
    "\n",
    "1. Its how we choose the conditions.\n",
    "    1. Based on Information theory."
   ]
  },
  {
   "cell_type": "markdown",
   "metadata": {},
   "source": [
    "##  2. Information Entropy:\n",
    "\n",
    "High level: We want to choose a split that maximizes reduction in uncertainity.<br>\n",
    "\n",
    "Example: Going from 50% certain to 100% certain is better than going from 50% to 75%\n",
    "\n",
    "1. Related to variance.\n",
    "    1. Wide variance: More uncertainity. \n",
    "    2. Slim variance: Less uncertainity. <img src=\"Images/Variance.png\" alt=\"Drawing\" style=\"width: 500px;\"/>\n",
    "\n",
    "2. Entropy: \n",
    "    1. It is always positive. Since p is between 0-1 and negative log is also positive.\n",
    "    2. Entropy - We always mean log base 2 implicity.\n",
    "\n",
    "$\\qquad H(X) = -\\displaystyle\\sum_{x} p(x)\\log p(x).$\n"
   ]
  },
  {
   "cell_type": "markdown",
   "metadata": {},
   "source": [
    "### Binary Random variable:\n",
    "Example:<br>\n",
    "P(X = 1) = p<br>\n",
    "P(X = 0) = 1 - p<br>\n",
    "\n",
    "$$Entropy\\,H(p)\\,=\\,-plog(p)\\,-\\,(1-p)log(1-p)$$<br>\n",
    "What value of p maximizes p? Solve dH/dp = 0 for p.<br>\n",
    "Answer: p = 0.5\n",
    "\n",
    "<img src=\"Images/EntropyVsP.png\" alt=\"Drawing\" style=\"width: 250px;\"/>\n",
    "\n",
    "1. If p = 0.5, there is no possible way to make a good prediction, we'll always have a probability of 50% being wrong.\n",
    "2. If p = 0.8, then we should always predict 1 because that gives us the best chance of being correct.\n",
    "3. Entropy is a measure of how much information we get from finding out the value of the random variable.\n",
    "    1. If we flip a coint with p = 0.8 and we get heads(1), we don't gain much information, we were already 80% certain.\n",
    "    2. If we flip a coint with p = 0.5 and we get heads, we gain maximium amount of information we could have.\n",
    "    3. Prior to knowing this, we were maximally clueless about the value we would get.\n",
    "    4. In general, uniform distribution yields maximum entropy."
   ]
  },
  {
   "attachments": {
    "image.png": {
     "image/png": "[encoded data removed]"
    }
   },
   "cell_type": "markdown",
   "metadata": {},
   "source": [
    "## 3. Information Gain:\n",
    "\n",
    "What is Information Gain?\n",
    "1. Suppose we have labels 0,0,1,1.\n",
    "2. H(Y) = 1.\n",
    "3. Suppose we have an attribute that splits the data perfectly.\n",
    "    1. Ex: if X > 0, Y = 0 ,if X < 0, Y = 1.\n",
    "    2. Then we have the left nodes: Y_left = {0,0}.\n",
    "    3. Right nodes: Y_right = {1,1}.\n",
    "    4. The entropy for each subset of data is 0.\n",
    "    5. Information Gain, IG(Y|Split on X) = H(Y) - 0.5* H(Y_left) - - 0.5* H(Y_right) = 1 - 0 - 0 = 1.\n",
    "        1. 0.5 indicates half the data went to the left and half to the right.\n",
    "        2. Ensures IG>=0.\n",
    "        \n",
    "Another Example:\n",
    "![image.png](attachment:image.png)\n",
    "1. H(Y) = 1.\n",
    "2. Split X1:\n",
    "    1. X1 = 1: H(Y|X1=1) = - (3/4)log2(3/5) - (1/4)log2(1/4) = 0.811.\n",
    "    2. X1 = 2: H(Y|X1=2) = - (2/6)log2(2/6) - (4/6)log2(4/6) = 0.918.\n",
    "    3. IG = 1 - (4/10) * 0.811 - (6/10) * 0.918 = 0.1248.\n",
    "3. Split X2:\n",
    "    1. X2 = 5: H(Y|X2=5) = 1.\n",
    "    2. X2 = 10: H(Y|X2=10) = 1.\n",
    "    3. IG = 1 - (4/10) * 1 - (6/10) * 1 = 0.\n",
    "\n",
    "Since splitting across X1 gives maximum IG, we should split on X1 first."
   ]
  },
  {
   "cell_type": "markdown",
   "metadata": {},
   "source": [
    "## 4. Choosing the best split:\n",
    "1. In the example above X1 & X2 had only 2 values.\n",
    "2. But in datasets like MNIST, the data is continuous. How do we pick the best split?\n",
    "    1. Continuous data -> Infinite places to split.\n",
    "    2. Need some way to find smalles number of splits.\n",
    "    \n",
    "Rules:<br>\n",
    "\n",
    " X : 0 1 2 3<br>\n",
    " Y : 1 0 1 0<br>\n",
    " \n",
    "We only need to consider the midpoint between any two sorted X's.<br>\n",
    "Split between 1,2 -> 1.5 -> Entropy = 1<br>\n",
    "Split between 1,2 -> 1.75 -> Entropy still = 1<br>\n",
    "\n",
    "Only need to consider boundaries between differing labels:<br>\n",
    "\n",
    "Y: 1,1,0,0,0,0,0,0,1,1,1,1,1,1,0,0\n",
    "\n",
    "Split at the middle -> total entropy = 2 * (-(6/8)log2(6/8) - (2/8)log2(2/8)) = 1.62.<br>\n",
    "Move one left       -> total entropy = 1.78.<br>\n",
    "Move one more left  -> total entropy = 1.89.<br>\n",
    "\n",
    "Further from boundary -> higher entropy -> lower information gain.\n",
    " \n"
   ]
  },
  {
   "cell_type": "markdown",
   "metadata": {},
   "source": [
    "### Best Split Algorithm:\n",
    "1. Sort X's for current column in order, sort Y in the corresponding way.\n",
    "2. Find all the boundary points where Y changes from one value to another.\n",
    "3. Calculate information gain when splitting at each boundary.\n",
    "4. Keep the split that yields max. information gain."
   ]
  },
  {
   "cell_type": "markdown",
   "metadata": {},
   "source": [
    "## 5. What makes a good tree?\n",
    "1. Not too small: need to handle important but possible subtle disctinctions in data.\n",
    "2. Not too big:\n",
    "    1. Computational efficiency - avoid redundant attributes.\n",
    "    2. Avoid over-fitting training examples.\n",
    "3. **Occam's Razor**: Find the simples hypothesis (smallest tree) that fits the observations.\n",
    "4. Inductive bias: small trees with informative nodes near the root.\n",
    "5. In practice, one often regilarizes the construction process to try to get small but highly informative trees.\n",
    "\n",
    "### Problems:\n",
    "1. Exponentially less data at lower nodes.\n",
    "2. Too big of a tree can overfit the data.\n",
    "3. Greedy algoritms don't necessarily yield the global optimum.\n",
    "4. Not suited for continous attributes.\n",
    "5. Bad on parity(XOR) & majority fucntions."
   ]
  },
  {
   "cell_type": "markdown",
   "metadata": {},
   "source": [
    "## 6. Decision Trees vs. KNN:\n",
    "1. Decision boundaries are axis-alignes, tree structures whereas in KNN it is piecewise linear.\n",
    "2. Test complexity: Attributes & splits whereas in KNN it is non-parametric."
   ]
  },
  {
   "cell_type": "markdown",
   "metadata": {},
   "source": [
    "## 7. Applications:\n",
    "1. Used in XBOX to classify body parts. Depth image -> body parts -> 3D joint proposals.\n",
    "2. Flight simulators: 20 state variables, 90K examples based on expert pilot's actions; auto-pilot tree.\n",
    "3. Yahoo's ranking challenge."
   ]
  },
  {
   "cell_type": "markdown",
   "metadata": {},
   "source": [
    "## 8. References:\n",
    "1. An Introduction to Statistical Learning Textbook by Gareth James, Daniela Witten, Trevor Hastie and Robert Tibshirani.\n",
    "2. University of Michigan EECS 445 - Machine Learning Course (https://github.com/eecs445-f16/umich-eecs445-f16).<br>\n",
    "3. University of Toronto CSC 411 - Intro. to Machine Learning (http://www.cs.toronto.edu/~urtasun/courses/CSC411_Fall16/CSC411_Fall16.html).<br>\n",
    "4. Stanford CS109 - Intro. to proabability for computer scientists (https://web.stanford.edu/class/archive/cs/cs109/cs109.1166/). <br>\n",
    "5. Few online courses on Udemy, Coursera etc."
   ]
  }
 ],
 "metadata": {
  "kernelspec": {
   "display_name": "Python 3",
   "language": "python",
   "name": "python3"
  },
  "language_info": {
   "codemirror_mode": {
    "name": "ipython",
    "version": 3
   },
   "file_extension": ".py",
   "mimetype": "text/x-python",
   "name": "python",
   "nbconvert_exporter": "python",
   "pygments_lexer": "ipython3",
   "version": "3.6.4"
  }
 },
 "nbformat": 4,
 "nbformat_minor": 2
}
