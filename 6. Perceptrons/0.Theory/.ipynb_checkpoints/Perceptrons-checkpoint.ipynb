{
 "cells": [
  {
   "cell_type": "markdown",
   "metadata": {},
   "source": [
    "## Topics covered in this notebook:\n",
    "1. What are Perceptrons?\n",
    "2. Prediction.\n",
    "3. Perceptron Training.\n",
    "4. References."
   ]
  },
  {
   "cell_type": "markdown",
   "metadata": {},
   "source": [
    "# 1. Perceptrons:\n",
    "\n",
    "1. Only handle binary classification.<br>\n",
    "2. We use {-1, +1} for targets instead of {0,1}\n"
   ]
  },
  {
   "cell_type": "markdown",
   "metadata": {},
   "source": [
    "## 2. Prediction:\n",
    "\n",
    "1. Calcualte $ w^Tx \\, +\\,b. $\n",
    "    1. if $ w^Tx \\, +\\,b = 0 $ -> We fall directly on the line/hyperplane.<br>\n",
    "    2. if $ w^Tx \\, +\\,b > 0 $ -> We predict +1.<br>\n",
    "    3. if $ w^Tx \\, +\\,b < 0 $ -> We predict -1.<br>\n",
    "    4. Summary: Prediction = sign ($ w^Tx \\, +\\,b). $"
   ]
  },
  {
   "cell_type": "markdown",
   "metadata": {},
   "source": [
    "## 3. Perceptron Training:\n",
    "\n",
    "1. Iterative procedure.\n",
    "2. Classification rate should go up as we step through each 'epoch'.\n",
    "3. Pseudocode:<br>\n",
    "$ \\quad w = random\\,vector\\,(b=0)$ <br>\n",
    "$ \\quad for\\,epoch\\, in\\, range\\,(max\\,epoch):$<br>\n",
    "$ \\qquad get\\, all\\, currently\\, misclassified\\, examples$ <br>\n",
    "$ \\qquad if\\, no\\, misclassified\\, examples -> break$ <br>\n",
    "$ \\qquad x\\,,y\\, = \\, randomnly\\, selected\\, one\\, misclassified\\, example$<br>\n",
    "$ \\qquad w = w\\, +\\, \\eta  yx, where\\, \\eta \\,is\\, learning\\, rate$<br>"
   ]
  },
  {
   "cell_type": "markdown",
   "metadata": {},
   "source": [
    "How does $w\\,= w\\, +\\, \\eta  yx$ help w in the right direction?<br>\n",
    "Consider a normal vector $n = (a,b)$ <br>\n",
    "The normal vector indicates the weight here. If we update the weight we can affect the classification result.<br>\n",
    "\n",
    "\n",
    "Consider two points p1 & p2 whose target values are +1 & -1 respectively.<br>\n",
    "As you can see in the image below the points p1 & p2 are incorrectly classisfied. Suppose we choose p1 to update weights w = w(old) + (x). This makes the weight to move small amount in the direction of p1. This subsequently moves to boundary line S.T p1 is correctly classified. Similary for p2 weights are moved in the -1 directions. <br>\n",
    "In the image below:<br>\n",
    "1. Red dashed line - Original decision Boundary.\n",
    "2. Red solid line - Original weight.\n",
    "3. Blue dashed line - Updated decision boundary.\n",
    "4. Blue solid line - Updated weight.\n",
    "5. Green & Ocean blue lines - -p1 & p2.\n",
    "\n",
    "http://www.willamette.edu/~gorr/classes/cs449/Classification/perceptron.html\n",
    "\n",
    "<img src=\"Images/perceptPict-1.gif\" alt=\"Drawing\" style=\"width: 400px;\"/>\n",
    "<img src=\"Images/perceptPict-2.gif\" alt=\"Drawing\" style=\"width: 400px;\"/>\n"
   ]
  },
  {
   "cell_type": "markdown",
   "metadata": {},
   "source": [
    "## 4. References:\n",
    "1. An Introduction to Statistical Learning Textbook by Gareth James, Daniela Witten, Trevor Hastie and Robert Tibshirani.\n",
    "2. University of Michigan EECS 445 - Machine Learning Course (https://github.com/eecs445-f16/umich-eecs445-f16).<br>\n",
    "3. University of Toronto CSC 411 - Intro. to Machine Learning (http://www.cs.toronto.edu/~urtasun/courses/CSC411_Fall16/CSC411_Fall16.html).<br>\n",
    "4. Stanford CS109 - Intro. to proabability for computer scientists (https://web.stanford.edu/class/archive/cs/cs109/cs109.1166/). <br>\n",
    "5. Few online courses on Udemy, Coursera etc."
   ]
  }
 ],
 "metadata": {
  "kernelspec": {
   "display_name": "Python 3",
   "language": "python",
   "name": "python3"
  },
  "language_info": {
   "codemirror_mode": {
    "name": "ipython",
    "version": 3
   },
   "file_extension": ".py",
   "mimetype": "text/x-python",
   "name": "python",
   "nbconvert_exporter": "python",
   "pygments_lexer": "ipython3",
   "version": "3.6.4"
  }
 },
 "nbformat": 4,
 "nbformat_minor": 2
}
