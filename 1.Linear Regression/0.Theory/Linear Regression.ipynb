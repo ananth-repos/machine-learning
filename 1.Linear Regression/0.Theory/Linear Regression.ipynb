{
 "cells": [
  {
   "cell_type": "markdown",
   "metadata": {},
   "source": [
    "## Topics covered in this notebook:\n",
    "1. What is Linear Regression.\n",
    "2. Simple 1D Linear Regression.\n",
    "3. Quality of Fit - R-Squared.\n",
    "4. Multiple Linear Regression.\n",
    "5. Probabilistic interpretation of the squared error.\n",
    "6. L2 Regularization or Ridge Regression.\n",
    "7. Gradient Descent.\n",
    "8. L1 Regularization or Lasso.\n",
    "9. L1 vs. L2 Regularization."
   ]
  },
  {
   "cell_type": "markdown",
   "metadata": {},
   "source": [
    "## 1. Linear Regression"
   ]
  },
  {
   "cell_type": "markdown",
   "metadata": {},
   "source": [
    "Consider a set of questions:\n",
    "1. How to predict future stock price?\n",
    "2. How to predict a rating of a movie?\n",
    "3. How many followers will I get on twitter?\n",
    "4. How can you predict a price of a house?"
   ]
  },
  {
   "cell_type": "markdown",
   "metadata": {},
   "source": [
    "What does all these questions have in common?\n",
    "1. **Outputs**. More specifically continous outputs (price of a house, # of followers etc.). Let's call this **'Y'** or **'y'**\n",
    "2. Predicting continuous outputs is called **regression**\n",
    "  "
   ]
  },
  {
   "cell_type": "markdown",
   "metadata": {},
   "source": [
    "What do I need to predict outputs?\n",
    "1. **Features** or Inputs, Let's call this **'X'**.\n",
    "2. **Training examples**, many X's for which Y's are known.\n",
    "3. A **model**, a function that represents the relationship between X & Y.\n",
    "4. A **loss** or **cost** or **objective** function that tells us how our model represents the training examples.\n",
    "5. **Optimization**, a way we can find the model parameters that minimizes the cost function.\n"
   ]
  },
  {
   "cell_type": "markdown",
   "metadata": {},
   "source": [
    "## 2. Simple 1D Linear Regression"
   ]
  },
  {
   "cell_type": "markdown",
   "metadata": {},
   "source": [
    "So let's re-state our problem in more general terms:\n",
    "1. We are given a set of points: {(x1,y1),(x2,y2),....(xn,yn)}\n",
    "2. We plot them in a 2D chart.\n",
    "3. We find the line of best fit.\n"
   ]
  },
  {
   "cell_type": "code",
   "execution_count": 1,
   "metadata": {},
   "outputs": [
    {
     "data": {
      "application/javascript": [
       "MathJax.Hub.Config({\n",
       "    TeX: { equationNumbers: { autoNumber: \"AMS\" } }\n",
       "});"
      ],
      "text/plain": [
       "<IPython.core.display.Javascript object>"
      ]
     },
     "metadata": {},
     "output_type": "display_data"
    }
   ],
   "source": [
    "%%javascript\n",
    "MathJax.Hub.Config({\n",
    "    TeX: { equationNumbers: { autoNumber: \"AMS\" } }\n",
    "});"
   ]
  },
  {
   "cell_type": "code",
   "execution_count": 2,
   "metadata": {},
   "outputs": [],
   "source": [
    "import numpy as np\n",
    "import matplotlib.pyplot as plt\n",
    "%matplotlib inline"
   ]
  },
  {
   "cell_type": "code",
   "execution_count": 3,
   "metadata": {},
   "outputs": [],
   "source": [
    "X = np.linspace(0,10,50)\n",
    "Y = 2*X + np.random.normal(0,1,50)"
   ]
  },
  {
   "cell_type": "code",
   "execution_count": 4,
   "metadata": {},
   "outputs": [
    {
     "data": {
      "image/png": "[encoded data removed]",
      "text/plain": [
       "<matplotlib.figure.Figure at 0x171cd860>"
      ]
     },
     "metadata": {},
     "output_type": "display_data"
    }
   ],
   "source": [
    "plt.scatter(X,Y,c = 'black',label = 'Data')\n",
    "plt.plot(X,2*X,c = 'red',label = 'line of best fit')\n",
    "plt.xlabel('X')\n",
    "plt.ylabel('Y')\n",
    "plt.legend()\n",
    "plt.show()"
   ]
  },
  {
   "cell_type": "markdown",
   "metadata": {},
   "source": [
    "Our line of best fit is defined as:\n",
    "\\begin{equation}\n",
    " \\large \\hat y_i = ax_i+ b \n",
    "\\end{equation}\n",
    "\n",
    "This is our **model**. <br>\n",
    "\n",
    "What can we do to make sure $\\large y_i$ is closer to $\\large \\hat y_i$"
   ]
  },
  {
   "cell_type": "markdown",
   "metadata": {},
   "source": [
    "Can we do this? <br>\n",
    "\n",
    "\\begin{equation}\n",
    "\\large Error = \\Sigma (\\large y_i - \\large \\hat y_i)\n",
    "\\end{equation}\n",
    "\n",
    "No. If the error for a point is -5 and +5 for the other the overall error is zero. However clearly that is not the case.<br>\n",
    "What we want is this:\n",
    "1. For any target != predictions, a +ve contribution to the error.\n",
    "2. Standard way is to square of difference.\n",
    "3. Called the \"sum of the squared errors\".\n",
    "\n",
    "\\begin{equation}\n",
    "\\large Error (E) = \\Sigma (\\large y_i - \\large \\hat y_i)^2\n",
    "\\end{equation}"
   ]
  },
  {
   "cell_type": "markdown",
   "metadata": {},
   "source": [
    "Now that we have error we have to minimize it. How do we do that?<br> Take derivative & set it to zero! <br>\n",
    "\n",
    "Substitute equation (1) in (3):\n",
    "\n",
    "\\begin{equation}\n",
    "\\large E = \\Sigma (\\large y_i - \\large ax_i- b)^2\n",
    "\\end{equation}\n",
    "<br>\n",
    "\n",
    "We need to minimize E w.r.t a & b. Hence we need to take partial derivative.<br>\n",
    "\n",
    "Derivative of above equation w.r.t a & b:\n",
    "\n",
    "\\begin{align}\n",
    "\\large \\frac{\\partial E}{\\partial a} &= \\Sigma \\,2\\, (\\large y_i - \\large ax_i- b)(-x_i) \\\\\n",
    "\\large \\frac{\\partial E}{\\partial b} &= \\Sigma \\,2\\, (\\large y_i - \\large ax_i- b)\n",
    "\\end{align}\n",
    "<br>\n",
    "\n",
    "Set that to zero: <br>\n",
    "\n",
    "\\begin{align}\n",
    "\\large a\\,\\Sigma \\large x_i^2 + \\large b\\,\\Sigma \\large x_i &= \\Sigma \\,\\large x_i\\,\\large y_i \\\\\n",
    "\\large a\\,\\Sigma \\large x_i + \\large b\\,\\large N &= \\Sigma \\,\\large y_i \\\\\n",
    "\\end{align}\n",
    "<br>\n",
    "\n",
    "Solve those 2 equations simultaneously:\n",
    "\n",
    "\\begin{align}\n",
    "\\large a\\, &= \\frac{N\\,\\large\\Sigma \\,\\large x_i\\,\\large y_i - \\Sigma \\,\\large x_i\\,\\Sigma \\,\\large y_i}{N\\, \\large\\Sigma \\large x_i^2 - (\\Sigma \\large x_i)^2} \\\\\n",
    "\\large b\\, &= \\frac{N\\,\\large\\Sigma \\,\\large x_i\\,\\large y_i^2 - \\Sigma \\,\\large x_i\\,\\Sigma \\,\\large x_i \\large y_i}{N\\, \\large\\Sigma \\large x_i^2 - (\\Sigma \\large x_i)^2} \\\\\n",
    "\\end{align}\n",
    "\n",
    "<br>\n",
    "\n",
    "Simplify it further is diving the above equations by $N^2$ and utilize the defitions of mean:\n",
    "\\begin{align}\n",
    "\\large a\\, &= \\frac{\\overline{\\large xy} - \\overline{\\large x}\\,\\overline{\\large y}}{\\overline{\\large x^2} - \\overline{\\large x}^2}\\\\\n",
    "\\\\\n",
    "\\large b\\, &= \\frac{\\overline{\\large y}\\, \\overline{\\large x^2}  - \\overline{\\large x}\\,\\overline{\\large xy}}{\\overline{\\large x^2} - \\overline{\\large x}^2}\\\\\n",
    "\\end{align}\n",
    "\n",
    "where,\n",
    "\n",
    "\\begin{align}\n",
    "\\large \\overline{x}\\, &= \\frac{1}{N} \\,\\large \\Sigma \\,\\large x_i \\\\\n",
    "\\large \\overline{xy}\\, &= \\frac{1}{N} \\,\\large \\Sigma \\,\\large x_i\\,y_i \\\\\n",
    "\\end{align}"
   ]
  },
  {
   "cell_type": "markdown",
   "metadata": {},
   "source": [
    "## 3. Quality of Fit: R-Sq\n",
    "\n",
    "\\begin{equation}\n",
    "\\large R^2 \\, = 1 \\, - \\frac{SS_{\\text{res}}}{SS_{\\text{tot}}} \\\\\n",
    "\\end{equation}\n",
    "\n",
    "where\n",
    "\\begin{align}\n",
    "\\large SS_{\\text{res}}\\, &=  \\large \\Sigma (y\\, - \\hat y_i)^2 \\\\\n",
    "\\large SS_{\\text{tot}}\\, &=  \\large \\Sigma (y\\, - \\overline y_i)^2 \\\\\n",
    "\\end{align}\n",
    "<br>\n",
    "1. Suppose the residual (SS_res) is close to zero. Then the R-Sq will be ~1 -> Perfect correlation. \n",
    "2. Suppose the R-Sq is zero which means SS_res / SS_tot = 1 -> This means we predicted just the everage of y. Model not good.\n",
    "3. When is R-Sq < 0? This means SS_res / SS_tot > 1. Model prediction is worse than mean. Again model not good."
   ]
  },
  {
   "cell_type": "markdown",
   "metadata": {},
   "source": [
    "## 4. Multiple Linear Regression"
   ]
  },
  {
   "cell_type": "markdown",
   "metadata": {},
   "source": [
    "The error function still doesn't change from 1D regression, only the expression for the prediction does,\n",
    "\n",
    "\\begin{equation}\n",
    "\\large Error (E) = \\Sigma (\\large y_i - \\large \\hat y_i)^2 = \\Sigma (\\large y_i - \\large w^Tx_i)^2\n",
    "\\end{equation}\n",
    "\n",
    "<br>\n",
    "We can still take derivative w.r.t to any component of w: j = 1,....D(No. of inputs or feature dimension) <br>\n",
    "\n",
    "\\begin{align}\n",
    "\\large \\frac{\\partial E}{\\partial w_j} &= \\Sigma 2(\\large y_i - \\large w^Tx_i)(- \\frac{\\partial (w^Tx_i)}{\\partial w_j})\\\\\n",
    "&= \\large \\Sigma \\,2(\\large y_i - \\large w^Tx_i)(- x_{ij})\n",
    "\\end{align}\n",
    "<br>\n",
    "Set this equation to zero. D equations & D unknowns:\n",
    "\n",
    "\\begin{align}\n",
    "\\large \\Sigma \\,2(\\large y_i - \\large w^Tx_i)(- x_{ij}) &= 0\\\\\n",
    "\\large \\Sigma \\,w^Tx_ix_{ij} - \\large \\Sigma y_ix_{ij} &= 0\n",
    "\\end{align}\n",
    "<br>\n",
    "Isolate w & represent everything in matrix form using dot product:\n",
    "<br>\n",
    "\n",
    "\\begin{align}\n",
    "\\large w^T(X^TX)\\, = \\, y^TX\\\\\n",
    "\\end{align}\n",
    "\n",
    "<br>\n",
    "Take transpose on both sides:\n",
    "\n",
    "\\begin{align}\n",
    "\\large [w^T(X^TX)]^T\\, &= \\, [y^TX]^T\\\\\n",
    "\\large (X^TX)w\\, &= \\, X^T\\large y\\\\\n",
    "\\large w \\, &=\\, (X^TX)^{-1}\\, X^T\\large y \n",
    "\\end{align}\n",
    "\n",
    "<br>\n",
    "Use numpy linalg.solve to solve the above equation. Elimiates the need to manually taking inverse:<br>\n",
    "\n",
    "\\begin{align}\n",
    "\\large w \\, &=\\, np.lingalg.solve(X^TX\\,, X^T\\large y)\n",
    "\\end{align}\n",
    "\n"
   ]
  },
  {
   "cell_type": "markdown",
   "metadata": {},
   "source": [
    "## 5. Probabilistic Interpretation of Squared Error:"
   ]
  },
  {
   "cell_type": "markdown",
   "metadata": {},
   "source": [
    "### Linear Regression is the maximum likelihood solution to the line of best fit.\n",
    "\n",
    "What is Maximum Likelihood?\n",
    "1. Assuming Gaussian distribution - If we plot histogram for grades of students we will get a bell curve:<br>\n",
    "<img src=\"Images/bell.jpg\" alt=\"Drawing\" style=\"width: 300px;\"/>\n",
    "2. We would do an experiment to collect everyone's grades: {x1, x2,....xn}<br>\n",
    "3. Intuitively, we know the average grade of the students is:\n",
    "\\begin{align}\n",
    "\\large \\mu \\, &= \\frac{1}{N} \\,\\large \\Sigma \\,\\large x_i \\\\\n",
    "\\end{align}\n",
    "4. Is there a systematic way of getting this answer? Suppose we want to find thr true mean of the Gaussian form which the data arises:<br>\n",
    "<br>\n",
    "\\begin{align}\n",
    " find\\, \\large \\mu \\,,\\, where\\,X \\, \\tilde \\, N(\\mu , \\sigma^2) \\\\\n",
    "\\end{align}\n",
    "5. We can write the probability of any single point xi:\n",
    "<br>\n",
    "\\begin{align}\n",
    "\\large p(x_i) \\, &= \\frac{1}{\\sqrt{2\\pi\\sigma^2}} \\,\\large exp^{\\frac {1}{2} \\, \\large \\frac {(\\large x_i-\\ \\large mu)^ 2}{\\large \\sigma^2}}\\\\\n",
    "\\end{align}\n",
    "6. Since we know the grades are iid, we can muliply individual probabiities:\n",
    "\\begin{align}\n",
    "\\large p(x_1,x_2,...x_N) \\, &= \\prod_{i=1}^n\\frac{1}{\\sqrt{2\\pi\\sigma^2}} \\,\\large exp^{\\frac {1}{2} \\, \\large \\frac {(\\large x_i-\\ \\large mu)^ 2}{\\large \\sigma^2}}\\\\\n",
    "\\end{align}\n",
    "7. Another way to write this is as 'likelihood' form. Probability of X given the parameter of interest:\n",
    "   1. We want to find mean so that likelihood is maximized. This is called 'maximum likelihood'.\n",
    "   2. We want to finfd the best setting of mean(mu) so that the date we measured is likely to have come from this distribution.\n",
    "\\begin{align}\n",
    "\\large p(X\\,|\\,\\mu) = \\large p(x_1,x_2,...x_N) \\, &= \\prod_{i=1}^n\\frac{1}{\\sqrt{2\\pi\\sigma^2}} \\,\\large exp^{\\frac {1}{2} \\, \\large \\frac {(\\large x_i-\\ \\large mu)^ 2}{\\large \\sigma^2}}\\\\\n",
    "\\end{align}\n",
    "8. How to find mu? Take log of the likelihood & set it to zero to make it easy to solve. log() in monotomically increasing function so if A > B -> log(A) > log(B)\n",
    "\\begin{align}\n",
    "\\large l \\, &= \\large log \\prod_{i=1}^n\\frac{1}{\\sqrt{2\\pi\\sigma^2}} \\,\\large exp^{\\frac {1}{2} \\, \\large \\frac {(\\large x_i-\\ \\large mu)^ 2}{\\large \\sigma^2}}\\\\\n",
    "\\large l \\, &= \\large [\\, \\Sigma_{i=1}^n-\\frac{1}{2} log(\\sqrt{2\\pi\\sigma^2}) \\,- \\large {\\frac {1}{2} \\, \\large \\frac {(\\large x_i-\\ \\large mu)^ 2}{\\large \\sigma^2}}\\,]\\\\\n",
    "\\end{align}\n",
    "Take derivative and set it to zero:\n",
    "\\begin{align}\n",
    "\\large \\frac{dl}{d\\mu} &= \\large \\Sigma \\, \\frac {(x_i - \\mu)}{\\sigma^2} = 0\\\\\n",
    "\\large \\mu \\, &= \\frac{1}{N} \\,\\large \\Sigma \\,\\large x_i \\\\\n",
    "\\end{align}\n",
    "<br>\n",
    "9. If we look at the equation for l and remove some irrelevant terms that are absorbed by zero, we get:\n",
    "\\begin{align}\n",
    "\\large l \\, &= \\large [\\, \\Sigma_{i=1}^n-\\frac{1}{2} log(\\sqrt{2\\pi\\sigma^2}) \\,- \\large {\\frac {1}{2} \\, \\large \\frac {(\\large x_i-\\ \\large mu)^ 2}{\\large \\sigma^2}}\\,]\\\\\n",
    "\\large equivalent \\,l &= \\large - \\Sigma \\, (x_i - \\mu)^2\\\\\n",
    "\\end{align}\n",
    "\n",
    "### This means maximizing the log-likelihood is equivalent to minimizing negative of squared errors \n",
    "Compare this to our error(E):\n",
    "\\begin{align}\n",
    "\\large \\,l &= \\large - \\Sigma \\, (x_i - \\mu)^2 -> \\,maximize\\\\\n",
    "\\large E & = \\large \\Sigma\\,(\\large y_i - \\large \\hat y_i)^2 -> \\, minimize \\\\\n",
    "\\end{align}\n",
    "So minimizing E is equivalent to maximizing -E. So when we minize the squared error for linear regression, this is equivalent to maximizing the likelihood. <br>\n",
    "Equivalent way of writing this:\n",
    "\\begin{align}\n",
    "\\large y \\,\\tilde \\,\\, N(w^Tx,\\sigma^2)\\\\\n",
    "\\end{align}\n",
    "<br>\n",
    "\\begin{align}\n",
    "\\large y & = \\, \\large w^Tx\\, +\\, \\epsilon,\\, \\epsilon\\, \\tilde\\, N(0,\\sigma^2) \\\\\n",
    "\\end{align}\n",
    "<br>\n",
    "\n",
    "### In other words, linear regression makes the assumption that errors are gaussion and the trend is linear."
   ]
  },
  {
   "cell_type": "markdown",
   "metadata": {},
   "source": [
    "## 6. L2 Regularization or Ridge Regression:"
   ]
  },
  {
   "cell_type": "markdown",
   "metadata": {},
   "source": [
    "Data may have outliers. These outliers are usually measurement errors or data entry errors. In some cases these outliers may actually mean something but in this case lets assume its the former assumption. \n",
    "#### Outliers pull the line of best fit away from the main trend to minimize the squared error. The idea is to ensure the weights are not overly large weights because that might want to fit to outliers.\n",
    "Look at the 2 lines below. Which one is the best fit? Red is the standard model which accounts for the outliers whereas black is the L2 regularization model that ignored the effect of outliers.<br>\n",
    "\n",
    "<img src=\"Images/L2-Reg.png\" alt=\"Drawing\" style=\"length: 1080px;\" style=\"width: 1080px;\"/>\n",
    "\n",
    "### How does L2 Regularization work?\n",
    "Modify the cost function (J) such that large weights are penalized.\n",
    "<br>\n",
    "\n",
    "\\begin{align}\n",
    "\\large J & = \\large \\Sigma\\,(\\large y_i - \\large \\hat y_i)^2 + \\lambda \\lvert \\large w^2\\rvert \\\\\n",
    "\\lvert \\large w^2\\rvert &= \\large w^Tw = \\large w1^2 + w2^2 + ....w_D^2\n",
    "\\end{align}\n",
    "\n",
    "#### Probabilistic Perspective:\n",
    "1. Plain squared error maximizes likelihood because J = negative log likelihood.\n",
    "2. Now we are no longer maximizing this, since there are 2 terms. The 2nd is called prior which has the information about the weights irrespective of the data since it is not dependent on x & y.\n",
    "<img src=\"Images/L2 Prob.jpg\" alt=\"Drawing\" style=\"width: 400px;\"/>\n",
    "<br>\n",
    "<br>\n",
    "3. Looks like Bayes rule.\n",
    "#### This is called MAP - maximum a posteriori.\n",
    "<img src=\"Images/MAP.jpg\" alt=\"Drawing\" style=\"width: 250px;\"/>\n",
    "<br>\n",
    "<br>\n",
    "4. Solve for w:\n",
    "<img src=\"Images/L2-w.jpg\" alt=\"Drawing\" style=\"width: 300px;\"/>\n",
    "<img src=\"Images/L2-der.jpg\" alt=\"Drawing\" style=\"width: 300px;\"/>\n",
    "<img src=\"Images/L2-wFinal.jpg\" alt=\"Drawing\" style=\"width: 200px;\"/>"
   ]
  },
  {
   "cell_type": "markdown",
   "metadata": {},
   "source": [
    "## 7. Gradient Descent:"
   ]
  },
  {
   "cell_type": "markdown",
   "metadata": {},
   "source": [
    "1. Optimization method.\n",
    "2. Used extensively in deep learning.\n",
    "3. Idea: You have a fucntion you want to minimize, J(w) = cost or error. Find optimal inputs to minimize this function.\n",
    "<img src=\"Images/GD.png\" alt=\"Drawing\" style=\"width: 500px;\"/>\n",
    "<br>\n",
    "4. Weight, w = w - learning_rate * dJ/dw.\n",
    "5. Example: J = w^2:\n",
    "   1. dJ/dw = 2w. \n",
    "   2. Set initial  w = 10, learning rate = 0.1.\n",
    "   3. Iteration 1: w = 10 - 0.1 * 20 = 8.\n",
    "   4. Iteration 2: w = 08 - 0.1 * 16 = 6.4.\n",
    "   5. Iteration 3: w = 6.4 - 0.1 * 12.8 = 5.12 and so on..\n",
    "   6. Notice how the weigh 'w' is converging towards the true solution 0. With enough iterations we will coverge.\n",
    "  \n"
   ]
  },
  {
   "cell_type": "code",
   "execution_count": 25,
   "metadata": {},
   "outputs": [],
   "source": [
    "import numpy as np"
   ]
  },
  {
   "cell_type": "code",
   "execution_count": 26,
   "metadata": {},
   "outputs": [],
   "source": [
    "w = 5\n",
    "learning_rate = 0.1"
   ]
  },
  {
   "cell_type": "code",
   "execution_count": 27,
   "metadata": {},
   "outputs": [
    {
     "name": "stdout",
     "output_type": "stream",
     "text": [
      "4.0\n",
      "3.2\n",
      "2.56\n",
      "2.048\n",
      "1.6384\n",
      "1.31072\n",
      "1.0485760000000002\n",
      "0.8388608000000002\n",
      "0.6710886400000001\n",
      "0.5368709120000001\n",
      "0.4294967296000001\n",
      "0.3435973836800001\n",
      "0.27487790694400005\n",
      "0.21990232555520003\n",
      "0.17592186044416003\n",
      "0.140737488355328\n",
      "0.11258999068426241\n",
      "0.09007199254740993\n",
      "0.07205759403792794\n",
      "0.057646075230342354\n",
      "0.04611686018427388\n",
      "0.03689348814741911\n",
      "0.029514790517935284\n",
      "0.02361183241434823\n",
      "0.018889465931478583\n",
      "0.015111572745182867\n",
      "0.012089258196146294\n",
      "0.009671406556917036\n",
      "0.007737125245533628\n",
      "0.006189700196426903\n",
      "0.004951760157141522\n",
      "0.003961408125713218\n",
      "0.0031691265005705745\n",
      "0.00253530120045646\n",
      "0.0020282409603651678\n",
      "0.0016225927682921343\n",
      "0.0012980742146337075\n",
      "0.001038459371706966\n",
      "0.0008307674973655728\n",
      "0.0006646139978924582\n",
      "0.0005316911983139665\n",
      "0.00042535295865117324\n",
      "0.0003402823669209386\n",
      "0.00027222589353675085\n",
      "0.0002177807148294007\n",
      "0.00017422457186352054\n",
      "0.00013937965749081642\n",
      "0.00011150372599265314\n",
      "8.920298079412252e-05\n",
      "7.136238463529802e-05\n",
      "Notice how w is converging towards zero!\n"
     ]
    }
   ],
   "source": [
    "for i in range(50):\n",
    "    w -= learning_rate * 2* w\n",
    "    print(w)\n",
    "print('Notice how w is converging towards zero!')"
   ]
  },
  {
   "cell_type": "markdown",
   "metadata": {},
   "source": [
    "### Gradient Descent for Linear Regression:"
   ]
  },
  {
   "cell_type": "markdown",
   "metadata": {},
   "source": [
    "Cost function to minimize:\n",
    "\\begin{align}\n",
    "\\large J \\, &= \\large (Y\\, - Xw)^T (Y\\, - Xw) \\\\\n",
    "\\end{align}\n",
    "\n",
    "<br>\n",
    "Gradient:\n",
    "\\begin{align}\n",
    "\\large \\frac {\\partial J}{\\partial w} \\, &= \\large -2X^TY\\, +\\, 2X^TXw \\,=\\, 2X^T(\\hat Y\\, -\\, Y) \\\\\n",
    "\\end{align}\n",
    "<br>\n",
    "#### Instead of setting it to 0 & solving for w, we will just take small steps in this direction.\n",
    "\n",
    "So weight update will be for a certain number of steps: <br>\n",
    "\\begin{align}\n",
    "\\large w \\, &= \\large w - \\eta * X^T(\\hat Y\\, -\\, Y) \\\\\n",
    "\\end{align}\n"
   ]
  },
  {
   "cell_type": "markdown",
   "metadata": {},
   "source": [
    "## 7. L1 Regularization (Lasso):"
   ]
  },
  {
   "cell_type": "markdown",
   "metadata": {},
   "source": [
    "In general we want no. of features(D) << no. of samples(N). Also, there might be a case where some of the features are just constant or quasi-const, uncorrelated to output etc. In all these cases we could use L1 regularization to eliminate those features from the model.\n",
    "\n",
    "1. Select a small number of important features that actually predict the trend.\n",
    "2. Eliminate the noise influence on the output.\n",
    "3. Similar to L2. It has a penalty term using L1 norm.\n",
    "<img src=\"Images/L1-Concept.jpg\" alt=\"Drawing\" style=\"width: 250px;\"/>\n",
    "4. Similar to L2 this also puts a prior on w, so its also a MAP estimation of w. We had a gaussian distribution on the prior for L2. We have Laplace here:\n",
    "\\begin{align}\n",
    "\\large p(w) \\, &= \\large \\frac {\\lambda}{2} exp(- \\lambda \\lvert \\large w\\rvert) \\\\\n",
    "\\end{align}\n",
    "5. Taking derivative of cost function:\n",
    "\\begin{align}\n",
    "\\large \\frac {\\partial J}{\\partial w} \\, &= \\large -2X^TY\\, +\\, 2X^TXw \\,+\\, \\lambda sign(w) \\\\\n",
    "\\end{align}\n",
    "6. Since this has a sign term we can't used closed form solution to update weights and use gradient descent instead.\n"
   ]
  },
  {
   "cell_type": "markdown",
   "metadata": {},
   "source": [
    "## 9. L1 vs L2 Regularization"
   ]
  },
  {
   "cell_type": "markdown",
   "metadata": {},
   "source": [
    "L2 reduces the effect of outliers on the model by maintaining the weights to a smaller value. \n",
    "L1 removes unwanted features. Encourages a sparse solution.\n",
    "\n",
    "Both helps prevent overfitting, by not fitting to noise. \n",
    "\n",
    "L2 penalty is quadratic: as w -> 0 derivative ->0  <br>\n",
    "L1 penalty is abs func : as w -> 0 doesn't matter it will fall at a contant rate. When it reaches 0, is stays there forever.\n",
    "\n",
    "#### Combine L1 & L2 = ElasticNet"
   ]
  },
  {
   "cell_type": "markdown",
   "metadata": {},
   "source": [
    "## References:\n",
    "1. An Introduction to Statistical Learning Textbook by Gareth James, Daniela Witten, Trevor Hastie and Robert Tibshirani.\n",
    "2. University of Michigan EECS 445 - Machine Learning Course (https://github.com/eecs445-f16/umich-eecs445-f16).<br>\n",
    "3. University of Toronto CSC 411 - Intro. to Machine Learning (http://www.cs.toronto.edu/~urtasun/courses/CSC411_Fall16/CSC411_Fall16.html).<br>\n",
    "4. Stanford CS109 - Intro. to proabability for computer scientists (https://web.stanford.edu/class/archive/cs/cs109/cs109.1166/). <br>\n",
    "5. Few online courses on Udemy, Coursera etc."
   ]
  }
 ],
 "metadata": {
  "kernelspec": {
   "display_name": "Python 3",
   "language": "python",
   "name": "python3"
  },
  "language_info": {
   "codemirror_mode": {
    "name": "ipython",
    "version": 3
   },
   "file_extension": ".py",
   "mimetype": "text/x-python",
   "name": "python",
   "nbconvert_exporter": "python",
   "pygments_lexer": "ipython3",
   "version": "3.6.4"
  }
 },
 "nbformat": 4,
 "nbformat_minor": 2
}
