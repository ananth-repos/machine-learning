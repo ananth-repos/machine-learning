{
 "cells": [
  {
   "cell_type": "markdown",
   "metadata": {},
   "source": [
    "## Linear Regression"
   ]
  },
  {
   "cell_type": "markdown",
   "metadata": {},
   "source": [
    "Consider a set of questions:\n",
    "1. How to predict future stock price?\n",
    "2. How to predict a rating of a movie?\n",
    "3. How many followers will I get on twitter?\n",
    "4. How can you predict a price of a house?"
   ]
  },
  {
   "cell_type": "markdown",
   "metadata": {},
   "source": [
    "What does all these questions have in common?\n",
    "1. **Outputs**. More specifically continous outputs (price of a house, # of followers etc.). Let's call this **'Y'** or **'y'**\n",
    "2. Predicting continuous outputs is called **regression**\n",
    "  "
   ]
  },
  {
   "cell_type": "markdown",
   "metadata": {},
   "source": [
    "What do I need to predict outputs?\n",
    "1. **Features** or Inputs, Let's call this **'X'**.\n",
    "2. **Training examples**, many X's for which Y's are known.\n",
    "3. A **model**, a function that represents the relationship between X & Y.\n",
    "4. A **loss** or **cost** or **objective** function that tells us how our model represents the training examples.\n",
    "5. **Optimization**, a way we can find the model parameters that minimizes the cost function.\n"
   ]
  },
  {
   "cell_type": "markdown",
   "metadata": {},
   "source": [
    "## Simple 1D Linear Regression"
   ]
  },
  {
   "cell_type": "markdown",
   "metadata": {},
   "source": [
    "So let's re-state our problem in more general terms:\n",
    "1. We are given a set of points: {(x1,y1),(x2,y2),....(xn,yn)}\n",
    "2. We plot them in a 2D chart.\n",
    "3. We find the line of best fit.\n"
   ]
  },
  {
   "cell_type": "code",
   "execution_count": 1,
   "metadata": {},
   "outputs": [
    {
     "data": {
      "application/javascript": [
       "MathJax.Hub.Config({\n",
       "    TeX: { equationNumbers: { autoNumber: \"AMS\" } }\n",
       "});"
      ],
      "text/plain": [
       "<IPython.core.display.Javascript object>"
      ]
     },
     "metadata": {},
     "output_type": "display_data"
    }
   ],
   "source": [
    "%%javascript\n",
    "MathJax.Hub.Config({\n",
    "    TeX: { equationNumbers: { autoNumber: \"AMS\" } }\n",
    "});"
   ]
  },
  {
   "cell_type": "code",
   "execution_count": 2,
   "metadata": {},
   "outputs": [],
   "source": [
    "import numpy as np\n",
    "import matplotlib.pyplot as plt\n",
    "%matplotlib inline"
   ]
  },
  {
   "cell_type": "code",
   "execution_count": 3,
   "metadata": {},
   "outputs": [],
   "source": [
    "X = np.linspace(0,10,50)\n",
    "Y = 2*X + np.random.normal(0,1,50)"
   ]
  },
  {
   "cell_type": "code",
   "execution_count": 4,
   "metadata": {},
   "outputs": [
    {
     "data": {
      "image/png": "[encoded data removed]",
      "text/plain": [
       "<matplotlib.figure.Figure at 0x8e066a0>"
      ]
     },
     "metadata": {},
     "output_type": "display_data"
    }
   ],
   "source": [
    "plt.scatter(X,Y,c = 'black',label = 'Data')\n",
    "plt.plot(X,2*X,c = 'red',label = 'line of best fit')\n",
    "plt.xlabel('X')\n",
    "plt.ylabel('Y')\n",
    "plt.legend()\n",
    "plt.show()"
   ]
  },
  {
   "cell_type": "markdown",
   "metadata": {},
   "source": [
    "Our line of best fit is defined as:\n",
    "\\begin{equation}\n",
    " \\large \\hat y_i = ax_i+ b \n",
    "\\end{equation}\n",
    "\n",
    "This is our **model**. <br>\n",
    "\n",
    "What can we do to make sure $\\large y_i$ is closer to $\\large \\hat y_i$"
   ]
  },
  {
   "cell_type": "markdown",
   "metadata": {},
   "source": [
    "Can we do this? <br>\n",
    "\n",
    "\\begin{equation}\n",
    "\\large Error = \\Sigma (\\large y_i - \\large \\hat y_i)\n",
    "\\end{equation}\n",
    "\n",
    "No. If the error for a point is -5 and +5 for the other the overall error is zero. However clearly that is not the case.<br>\n",
    "What we want is this:\n",
    "1. For any target != predictions, a +ve contribution to the error.\n",
    "2. Standard way is to square of difference.\n",
    "3. Called the \"sum of the squared errors\".\n",
    "\n",
    "\\begin{equation}\n",
    "\\large Error (E) = \\Sigma (\\large y_i - \\large \\hat y_i)^2\n",
    "\\end{equation}"
   ]
  },
  {
   "cell_type": "markdown",
   "metadata": {},
   "source": [
    "Now that we have error we have to minimize it. How do we do that?<br> Take derivative & set it to zero! <br>\n",
    "\n",
    "Substitute equation (1) in (3):\n",
    "\n",
    "\\begin{equation}\n",
    "\\large E = \\Sigma (\\large y_i - \\large ax_i- b)^2\n",
    "\\end{equation}\n",
    "<br>\n",
    "\n",
    "We need to minimize E w.r.t a & b. Hence we need to take partial derivative.<br>\n",
    "\n",
    "Derivative of above equation w.r.t a & b:\n",
    "\n",
    "\\begin{align}\n",
    "\\large \\frac{dE}{da} &= \\Sigma \\,2\\, (\\large y_i - \\large ax_i- b)(-x_i) \\\\\n",
    "\\large \\frac{dE}{db} &= \\Sigma \\,2\\, (\\large y_i - \\large ax_i- b)\n",
    "\\end{align}\n",
    "<br>\n",
    "\n",
    "Set that to zero: <br>\n",
    "\n",
    "\\begin{align}\n",
    "\\large a\\,\\Sigma \\large x_i^2 + \\large b\\,\\Sigma \\large x_i &= \\Sigma \\,\\large x_i\\,\\large y_i \\\\\n",
    "\\large a\\,\\Sigma \\large x_i + \\large b\\,\\large N &= \\Sigma \\,\\large y_i \\\\\n",
    "\\end{align}\n",
    "<br>\n",
    "\n",
    "Solve those 2 equations simultaneously:\n",
    "\n",
    "\\begin{align}\n",
    "\\large a\\, &= \\Sigma \\,\\large x_i\\,\\large y_i \\\\\n",
    "\\large a\\,\\Sigma \\large x_i + \\large b\\,\\large N &= \\Sigma \\,\\large y_i \\\\\n",
    "\\end{align}\n",
    "<br>"
   ]
  },
  {
   "cell_type": "code",
   "execution_count": null,
   "metadata": {},
   "outputs": [],
   "source": []
  },
  {
   "cell_type": "markdown",
   "metadata": {},
   "source": []
  },
  {
   "cell_type": "markdown",
   "metadata": {},
   "source": []
  },
  {
   "cell_type": "code",
   "execution_count": null,
   "metadata": {},
   "outputs": [],
   "source": []
  }
 ],
 "metadata": {
  "kernelspec": {
   "display_name": "Python 3",
   "language": "python",
   "name": "python3"
  },
  "language_info": {
   "codemirror_mode": {
    "name": "ipython",
    "version": 3
   },
   "file_extension": ".py",
   "mimetype": "text/x-python",
   "name": "python",
   "nbconvert_exporter": "python",
   "pygments_lexer": "ipython3",
   "version": "3.6.4"
  }
 },
 "nbformat": 4,
 "nbformat_minor": 2
}
